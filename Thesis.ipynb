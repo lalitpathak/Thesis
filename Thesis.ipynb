{
 "cells": [
  {
   "cell_type": "markdown",
   "metadata": {},
   "source": [
    "# Importing Libraries and Creating Dataframes "
   ]
  },
  {
   "cell_type": "code",
   "execution_count": 1,
   "metadata": {},
   "outputs": [],
   "source": [
    "import numpy as np\n",
    "import pandas as pd\n",
    "import matplotlib.pyplot as plt\n",
    "import os\n",
    "import matplotlib.pyplot as plt\n",
    "import seaborn as sns\n",
    "import missingno as msno\n",
    "from scipy import stats\n"
   ]
  },
  {
   "cell_type": "code",
   "execution_count": 2,
   "metadata": {},
   "outputs": [
    {
     "name": "stdout",
     "output_type": "stream",
     "text": [
      "C:\\Users\\lalit\n",
      "['.anaconda', '.bash_history', '.conda', '.condarc', '.config', '.gitconfig', '.ipynb_checkpoints', '.ipython', '.jupyter', '.matplotlib', '.QtWebEngineProcess', '.spyder-py3', '.Tableau', '.VirtualBox', '3D Objects', 'Anaconda3', 'AppData', 'Application Data', 'Contacts', 'Cookies', 'Desktop', 'Documents', 'Downloads', 'Favorites', 'git', 'hourly_irish_weather.csv', 'IntelGraphicsProfiles', 'Irish_weather_data_cork_new.csv', 'Links', 'Local Settings', 'MicrosoftEdgeBackups', 'Music', 'My Documents', 'NetHood', 'NTUSER.DAT', 'ntuser.dat.LOG1', 'ntuser.dat.LOG2', 'NTUSER.DAT{8ebe95f7-3dcb-11e8-a9d9-7cfe90913f50}.TM.blf', 'NTUSER.DAT{8ebe95f7-3dcb-11e8-a9d9-7cfe90913f50}.TMContainer00000000000000000001.regtrans-ms', 'NTUSER.DAT{8ebe95f7-3dcb-11e8-a9d9-7cfe90913f50}.TMContainer00000000000000000002.regtrans-ms', 'ntuser.ini', 'OneDrive', 'PrintHood', 'Recent', 'Saved Games', 'Searches', 'SendTo', 'Start Menu', 'Templates', 'Thesis.ipynb', 'Videos', 'VirtualBox VMs', 'Zotero']\n"
     ]
    }
   ],
   "source": [
    "# Working Directory \n",
    "print(os.getcwd()) \n",
    "print(os.listdir(os.getcwd()))\n",
    "\n",
    "# changing Directory --- os.chdir()"
   ]
  },
  {
   "cell_type": "code",
   "execution_count": 3,
   "metadata": {},
   "outputs": [
    {
     "data": {
      "text/html": [
       "<div>\n",
       "<style scoped>\n",
       "    .dataframe tbody tr th:only-of-type {\n",
       "        vertical-align: middle;\n",
       "    }\n",
       "\n",
       "    .dataframe tbody tr th {\n",
       "        vertical-align: top;\n",
       "    }\n",
       "\n",
       "    .dataframe thead th {\n",
       "        text-align: right;\n",
       "    }\n",
       "</style>\n",
       "<table border=\"1\" class=\"dataframe\">\n",
       "  <thead>\n",
       "    <tr style=\"text-align: right;\">\n",
       "      <th></th>\n",
       "      <th>Unnamed: 0</th>\n",
       "      <th>date</th>\n",
       "      <th>station</th>\n",
       "      <th>county</th>\n",
       "      <th>longitude</th>\n",
       "      <th>latitude</th>\n",
       "      <th>rain</th>\n",
       "      <th>temp</th>\n",
       "      <th>wetb</th>\n",
       "      <th>dewpt</th>\n",
       "      <th>...</th>\n",
       "      <th>rhum</th>\n",
       "      <th>msl</th>\n",
       "      <th>wdsp</th>\n",
       "      <th>wddir</th>\n",
       "      <th>ww</th>\n",
       "      <th>w</th>\n",
       "      <th>sun</th>\n",
       "      <th>vis</th>\n",
       "      <th>clht</th>\n",
       "      <th>clamt</th>\n",
       "    </tr>\n",
       "  </thead>\n",
       "  <tbody>\n",
       "    <tr>\n",
       "      <td>0</td>\n",
       "      <td>0</td>\n",
       "      <td>1989-01-01 00:00:00</td>\n",
       "      <td>Cork_Airport</td>\n",
       "      <td>Cork</td>\n",
       "      <td>-8.485</td>\n",
       "      <td>51.842</td>\n",
       "      <td>0.0</td>\n",
       "      <td>9.1</td>\n",
       "      <td>8.7</td>\n",
       "      <td>8.3</td>\n",
       "      <td>...</td>\n",
       "      <td>95.0</td>\n",
       "      <td>1036.3</td>\n",
       "      <td>13.0</td>\n",
       "      <td>190.0</td>\n",
       "      <td>10.0</td>\n",
       "      <td>22.0</td>\n",
       "      <td>0.0</td>\n",
       "      <td>10000.0</td>\n",
       "      <td>22.0</td>\n",
       "      <td>7.0</td>\n",
       "    </tr>\n",
       "    <tr>\n",
       "      <td>1</td>\n",
       "      <td>1</td>\n",
       "      <td>1989-01-01 01:00:00</td>\n",
       "      <td>Cork_Airport</td>\n",
       "      <td>Cork</td>\n",
       "      <td>-8.485</td>\n",
       "      <td>51.842</td>\n",
       "      <td>0.0</td>\n",
       "      <td>9.0</td>\n",
       "      <td>8.7</td>\n",
       "      <td>8.4</td>\n",
       "      <td>...</td>\n",
       "      <td>96.0</td>\n",
       "      <td>1036.2</td>\n",
       "      <td>13.0</td>\n",
       "      <td>190.0</td>\n",
       "      <td>10.0</td>\n",
       "      <td>22.0</td>\n",
       "      <td>0.0</td>\n",
       "      <td>8000.0</td>\n",
       "      <td>4.0</td>\n",
       "      <td>8.0</td>\n",
       "    </tr>\n",
       "    <tr>\n",
       "      <td>2</td>\n",
       "      <td>2</td>\n",
       "      <td>1989-01-01 02:00:00</td>\n",
       "      <td>Cork_Airport</td>\n",
       "      <td>Cork</td>\n",
       "      <td>-8.485</td>\n",
       "      <td>51.842</td>\n",
       "      <td>0.0</td>\n",
       "      <td>8.9</td>\n",
       "      <td>8.5</td>\n",
       "      <td>8.1</td>\n",
       "      <td>...</td>\n",
       "      <td>95.0</td>\n",
       "      <td>1036.0</td>\n",
       "      <td>12.0</td>\n",
       "      <td>190.0</td>\n",
       "      <td>10.0</td>\n",
       "      <td>22.0</td>\n",
       "      <td>0.0</td>\n",
       "      <td>8000.0</td>\n",
       "      <td>4.0</td>\n",
       "      <td>8.0</td>\n",
       "    </tr>\n",
       "    <tr>\n",
       "      <td>3</td>\n",
       "      <td>3</td>\n",
       "      <td>1989-01-01 03:00:00</td>\n",
       "      <td>Cork_Airport</td>\n",
       "      <td>Cork</td>\n",
       "      <td>-8.485</td>\n",
       "      <td>51.842</td>\n",
       "      <td>0.0</td>\n",
       "      <td>9.0</td>\n",
       "      <td>8.7</td>\n",
       "      <td>8.4</td>\n",
       "      <td>...</td>\n",
       "      <td>96.0</td>\n",
       "      <td>1035.9</td>\n",
       "      <td>11.0</td>\n",
       "      <td>190.0</td>\n",
       "      <td>10.0</td>\n",
       "      <td>22.0</td>\n",
       "      <td>0.0</td>\n",
       "      <td>8000.0</td>\n",
       "      <td>4.0</td>\n",
       "      <td>8.0</td>\n",
       "    </tr>\n",
       "    <tr>\n",
       "      <td>4</td>\n",
       "      <td>4</td>\n",
       "      <td>1989-01-01 04:00:00</td>\n",
       "      <td>Cork_Airport</td>\n",
       "      <td>Cork</td>\n",
       "      <td>-8.485</td>\n",
       "      <td>51.842</td>\n",
       "      <td>0.0</td>\n",
       "      <td>9.0</td>\n",
       "      <td>8.6</td>\n",
       "      <td>8.2</td>\n",
       "      <td>...</td>\n",
       "      <td>95.0</td>\n",
       "      <td>1035.8</td>\n",
       "      <td>10.0</td>\n",
       "      <td>190.0</td>\n",
       "      <td>10.0</td>\n",
       "      <td>22.0</td>\n",
       "      <td>0.0</td>\n",
       "      <td>10000.0</td>\n",
       "      <td>14.0</td>\n",
       "      <td>8.0</td>\n",
       "    </tr>\n",
       "  </tbody>\n",
       "</table>\n",
       "<p>5 rows × 21 columns</p>\n",
       "</div>"
      ],
      "text/plain": [
       "   Unnamed: 0                 date       station county  longitude  latitude  \\\n",
       "0           0  1989-01-01 00:00:00  Cork_Airport   Cork     -8.485    51.842   \n",
       "1           1  1989-01-01 01:00:00  Cork_Airport   Cork     -8.485    51.842   \n",
       "2           2  1989-01-01 02:00:00  Cork_Airport   Cork     -8.485    51.842   \n",
       "3           3  1989-01-01 03:00:00  Cork_Airport   Cork     -8.485    51.842   \n",
       "4           4  1989-01-01 04:00:00  Cork_Airport   Cork     -8.485    51.842   \n",
       "\n",
       "   rain  temp  wetb  dewpt  ...  rhum     msl  wdsp  wddir    ww     w  sun  \\\n",
       "0   0.0   9.1   8.7    8.3  ...  95.0  1036.3  13.0  190.0  10.0  22.0  0.0   \n",
       "1   0.0   9.0   8.7    8.4  ...  96.0  1036.2  13.0  190.0  10.0  22.0  0.0   \n",
       "2   0.0   8.9   8.5    8.1  ...  95.0  1036.0  12.0  190.0  10.0  22.0  0.0   \n",
       "3   0.0   9.0   8.7    8.4  ...  96.0  1035.9  11.0  190.0  10.0  22.0  0.0   \n",
       "4   0.0   9.0   8.6    8.2  ...  95.0  1035.8  10.0  190.0  10.0  22.0  0.0   \n",
       "\n",
       "       vis  clht  clamt  \n",
       "0  10000.0  22.0    7.0  \n",
       "1   8000.0   4.0    8.0  \n",
       "2   8000.0   4.0    8.0  \n",
       "3   8000.0   4.0    8.0  \n",
       "4  10000.0  14.0    8.0  \n",
       "\n",
       "[5 rows x 21 columns]"
      ]
     },
     "execution_count": 3,
     "metadata": {},
     "output_type": "execute_result"
    }
   ],
   "source": [
    "# reading csv files from local file system create dataframe Irish_weather_data\n",
    "\n",
    "Irish_weather_data=pd.read_csv('hourly_irish_weather.csv',index_col = False)\n",
    "\n",
    "# getting first 5 rows from dataaset \n",
    "Irish_weather_data.head()\n"
   ]
  },
  {
   "cell_type": "code",
   "execution_count": 4,
   "metadata": {},
   "outputs": [
    {
     "data": {
      "text/html": [
       "<div>\n",
       "<style scoped>\n",
       "    .dataframe tbody tr th:only-of-type {\n",
       "        vertical-align: middle;\n",
       "    }\n",
       "\n",
       "    .dataframe tbody tr th {\n",
       "        vertical-align: top;\n",
       "    }\n",
       "\n",
       "    .dataframe thead th {\n",
       "        text-align: right;\n",
       "    }\n",
       "</style>\n",
       "<table border=\"1\" class=\"dataframe\">\n",
       "  <thead>\n",
       "    <tr style=\"text-align: right;\">\n",
       "      <th></th>\n",
       "      <th>Unnamed: 0</th>\n",
       "      <th>date</th>\n",
       "      <th>station</th>\n",
       "      <th>county</th>\n",
       "      <th>longitude</th>\n",
       "      <th>latitude</th>\n",
       "      <th>rain</th>\n",
       "      <th>temp</th>\n",
       "      <th>wetb</th>\n",
       "      <th>dewpt</th>\n",
       "      <th>...</th>\n",
       "      <th>rhum</th>\n",
       "      <th>msl</th>\n",
       "      <th>wdsp</th>\n",
       "      <th>wddir</th>\n",
       "      <th>ww</th>\n",
       "      <th>w</th>\n",
       "      <th>sun</th>\n",
       "      <th>vis</th>\n",
       "      <th>clht</th>\n",
       "      <th>clamt</th>\n",
       "    </tr>\n",
       "  </thead>\n",
       "  <tbody>\n",
       "    <tr>\n",
       "      <td>0</td>\n",
       "      <td>0</td>\n",
       "      <td>1989-01-01 00:00:00</td>\n",
       "      <td>Cork_Airport</td>\n",
       "      <td>Cork</td>\n",
       "      <td>-8.485</td>\n",
       "      <td>51.842</td>\n",
       "      <td>0.0</td>\n",
       "      <td>9.1</td>\n",
       "      <td>8.7</td>\n",
       "      <td>8.3</td>\n",
       "      <td>...</td>\n",
       "      <td>95.0</td>\n",
       "      <td>1036.3</td>\n",
       "      <td>13.0</td>\n",
       "      <td>190.0</td>\n",
       "      <td>10.0</td>\n",
       "      <td>22.0</td>\n",
       "      <td>0.0</td>\n",
       "      <td>10000.0</td>\n",
       "      <td>22.0</td>\n",
       "      <td>7.0</td>\n",
       "    </tr>\n",
       "    <tr>\n",
       "      <td>1</td>\n",
       "      <td>1</td>\n",
       "      <td>1989-01-01 01:00:00</td>\n",
       "      <td>Cork_Airport</td>\n",
       "      <td>Cork</td>\n",
       "      <td>-8.485</td>\n",
       "      <td>51.842</td>\n",
       "      <td>0.0</td>\n",
       "      <td>9.0</td>\n",
       "      <td>8.7</td>\n",
       "      <td>8.4</td>\n",
       "      <td>...</td>\n",
       "      <td>96.0</td>\n",
       "      <td>1036.2</td>\n",
       "      <td>13.0</td>\n",
       "      <td>190.0</td>\n",
       "      <td>10.0</td>\n",
       "      <td>22.0</td>\n",
       "      <td>0.0</td>\n",
       "      <td>8000.0</td>\n",
       "      <td>4.0</td>\n",
       "      <td>8.0</td>\n",
       "    </tr>\n",
       "    <tr>\n",
       "      <td>2</td>\n",
       "      <td>2</td>\n",
       "      <td>1989-01-01 02:00:00</td>\n",
       "      <td>Cork_Airport</td>\n",
       "      <td>Cork</td>\n",
       "      <td>-8.485</td>\n",
       "      <td>51.842</td>\n",
       "      <td>0.0</td>\n",
       "      <td>8.9</td>\n",
       "      <td>8.5</td>\n",
       "      <td>8.1</td>\n",
       "      <td>...</td>\n",
       "      <td>95.0</td>\n",
       "      <td>1036.0</td>\n",
       "      <td>12.0</td>\n",
       "      <td>190.0</td>\n",
       "      <td>10.0</td>\n",
       "      <td>22.0</td>\n",
       "      <td>0.0</td>\n",
       "      <td>8000.0</td>\n",
       "      <td>4.0</td>\n",
       "      <td>8.0</td>\n",
       "    </tr>\n",
       "    <tr>\n",
       "      <td>3</td>\n",
       "      <td>3</td>\n",
       "      <td>1989-01-01 03:00:00</td>\n",
       "      <td>Cork_Airport</td>\n",
       "      <td>Cork</td>\n",
       "      <td>-8.485</td>\n",
       "      <td>51.842</td>\n",
       "      <td>0.0</td>\n",
       "      <td>9.0</td>\n",
       "      <td>8.7</td>\n",
       "      <td>8.4</td>\n",
       "      <td>...</td>\n",
       "      <td>96.0</td>\n",
       "      <td>1035.9</td>\n",
       "      <td>11.0</td>\n",
       "      <td>190.0</td>\n",
       "      <td>10.0</td>\n",
       "      <td>22.0</td>\n",
       "      <td>0.0</td>\n",
       "      <td>8000.0</td>\n",
       "      <td>4.0</td>\n",
       "      <td>8.0</td>\n",
       "    </tr>\n",
       "    <tr>\n",
       "      <td>4</td>\n",
       "      <td>4</td>\n",
       "      <td>1989-01-01 04:00:00</td>\n",
       "      <td>Cork_Airport</td>\n",
       "      <td>Cork</td>\n",
       "      <td>-8.485</td>\n",
       "      <td>51.842</td>\n",
       "      <td>0.0</td>\n",
       "      <td>9.0</td>\n",
       "      <td>8.6</td>\n",
       "      <td>8.2</td>\n",
       "      <td>...</td>\n",
       "      <td>95.0</td>\n",
       "      <td>1035.8</td>\n",
       "      <td>10.0</td>\n",
       "      <td>190.0</td>\n",
       "      <td>10.0</td>\n",
       "      <td>22.0</td>\n",
       "      <td>0.0</td>\n",
       "      <td>10000.0</td>\n",
       "      <td>14.0</td>\n",
       "      <td>8.0</td>\n",
       "    </tr>\n",
       "  </tbody>\n",
       "</table>\n",
       "<p>5 rows × 21 columns</p>\n",
       "</div>"
      ],
      "text/plain": [
       "   Unnamed: 0                 date       station county  longitude  latitude  \\\n",
       "0           0  1989-01-01 00:00:00  Cork_Airport   Cork     -8.485    51.842   \n",
       "1           1  1989-01-01 01:00:00  Cork_Airport   Cork     -8.485    51.842   \n",
       "2           2  1989-01-01 02:00:00  Cork_Airport   Cork     -8.485    51.842   \n",
       "3           3  1989-01-01 03:00:00  Cork_Airport   Cork     -8.485    51.842   \n",
       "4           4  1989-01-01 04:00:00  Cork_Airport   Cork     -8.485    51.842   \n",
       "\n",
       "   rain  temp  wetb  dewpt  ...  rhum     msl  wdsp  wddir    ww     w  sun  \\\n",
       "0   0.0   9.1   8.7    8.3  ...  95.0  1036.3  13.0  190.0  10.0  22.0  0.0   \n",
       "1   0.0   9.0   8.7    8.4  ...  96.0  1036.2  13.0  190.0  10.0  22.0  0.0   \n",
       "2   0.0   8.9   8.5    8.1  ...  95.0  1036.0  12.0  190.0  10.0  22.0  0.0   \n",
       "3   0.0   9.0   8.7    8.4  ...  96.0  1035.9  11.0  190.0  10.0  22.0  0.0   \n",
       "4   0.0   9.0   8.6    8.2  ...  95.0  1035.8  10.0  190.0  10.0  22.0  0.0   \n",
       "\n",
       "       vis  clht  clamt  \n",
       "0  10000.0  22.0    7.0  \n",
       "1   8000.0   4.0    8.0  \n",
       "2   8000.0   4.0    8.0  \n",
       "3   8000.0   4.0    8.0  \n",
       "4  10000.0  14.0    8.0  \n",
       "\n",
       "[5 rows x 21 columns]"
      ]
     },
     "execution_count": 4,
     "metadata": {},
     "output_type": "execute_result"
    }
   ],
   "source": [
    "# Filter Data for county Cork and create new datframe with name cork \n",
    "\n",
    "Irish_weather_data_cork = Irish_weather_data[Irish_weather_data.county == 'Cork']\n",
    "\n",
    "# Displaying sample data first 5 rows\n",
    "Irish_weather_data_cork.head()"
   ]
  },
  {
   "cell_type": "code",
   "execution_count": 5,
   "metadata": {},
   "outputs": [
    {
     "data": {
      "text/html": [
       "<div>\n",
       "<style scoped>\n",
       "    .dataframe tbody tr th:only-of-type {\n",
       "        vertical-align: middle;\n",
       "    }\n",
       "\n",
       "    .dataframe tbody tr th {\n",
       "        vertical-align: top;\n",
       "    }\n",
       "\n",
       "    .dataframe thead th {\n",
       "        text-align: right;\n",
       "    }\n",
       "</style>\n",
       "<table border=\"1\" class=\"dataframe\">\n",
       "  <thead>\n",
       "    <tr style=\"text-align: right;\">\n",
       "      <th></th>\n",
       "      <th>date</th>\n",
       "      <th>station</th>\n",
       "      <th>county</th>\n",
       "      <th>longitude</th>\n",
       "      <th>latitude</th>\n",
       "      <th>temp</th>\n",
       "      <th>wetb</th>\n",
       "      <th>dewpt</th>\n",
       "      <th>vappr</th>\n",
       "    </tr>\n",
       "  </thead>\n",
       "  <tbody>\n",
       "    <tr>\n",
       "      <td>0</td>\n",
       "      <td>1989-01-01 00:00:00</td>\n",
       "      <td>Cork_Airport</td>\n",
       "      <td>Cork</td>\n",
       "      <td>-8.485</td>\n",
       "      <td>51.842</td>\n",
       "      <td>9.1</td>\n",
       "      <td>8.7</td>\n",
       "      <td>8.3</td>\n",
       "      <td>10.9</td>\n",
       "    </tr>\n",
       "    <tr>\n",
       "      <td>1</td>\n",
       "      <td>1989-01-01 01:00:00</td>\n",
       "      <td>Cork_Airport</td>\n",
       "      <td>Cork</td>\n",
       "      <td>-8.485</td>\n",
       "      <td>51.842</td>\n",
       "      <td>9.0</td>\n",
       "      <td>8.7</td>\n",
       "      <td>8.4</td>\n",
       "      <td>11.0</td>\n",
       "    </tr>\n",
       "    <tr>\n",
       "      <td>2</td>\n",
       "      <td>1989-01-01 02:00:00</td>\n",
       "      <td>Cork_Airport</td>\n",
       "      <td>Cork</td>\n",
       "      <td>-8.485</td>\n",
       "      <td>51.842</td>\n",
       "      <td>8.9</td>\n",
       "      <td>8.5</td>\n",
       "      <td>8.1</td>\n",
       "      <td>10.8</td>\n",
       "    </tr>\n",
       "    <tr>\n",
       "      <td>3</td>\n",
       "      <td>1989-01-01 03:00:00</td>\n",
       "      <td>Cork_Airport</td>\n",
       "      <td>Cork</td>\n",
       "      <td>-8.485</td>\n",
       "      <td>51.842</td>\n",
       "      <td>9.0</td>\n",
       "      <td>8.7</td>\n",
       "      <td>8.4</td>\n",
       "      <td>11.0</td>\n",
       "    </tr>\n",
       "    <tr>\n",
       "      <td>4</td>\n",
       "      <td>1989-01-01 04:00:00</td>\n",
       "      <td>Cork_Airport</td>\n",
       "      <td>Cork</td>\n",
       "      <td>-8.485</td>\n",
       "      <td>51.842</td>\n",
       "      <td>9.0</td>\n",
       "      <td>8.6</td>\n",
       "      <td>8.2</td>\n",
       "      <td>10.8</td>\n",
       "    </tr>\n",
       "  </tbody>\n",
       "</table>\n",
       "</div>"
      ],
      "text/plain": [
       "                  date       station county  longitude  latitude  temp  wetb  \\\n",
       "0  1989-01-01 00:00:00  Cork_Airport   Cork     -8.485    51.842   9.1   8.7   \n",
       "1  1989-01-01 01:00:00  Cork_Airport   Cork     -8.485    51.842   9.0   8.7   \n",
       "2  1989-01-01 02:00:00  Cork_Airport   Cork     -8.485    51.842   8.9   8.5   \n",
       "3  1989-01-01 03:00:00  Cork_Airport   Cork     -8.485    51.842   9.0   8.7   \n",
       "4  1989-01-01 04:00:00  Cork_Airport   Cork     -8.485    51.842   9.0   8.6   \n",
       "\n",
       "   dewpt  vappr  \n",
       "0    8.3   10.9  \n",
       "1    8.4   11.0  \n",
       "2    8.1   10.8  \n",
       "3    8.4   11.0  \n",
       "4    8.2   10.8  "
      ]
     },
     "execution_count": 5,
     "metadata": {},
     "output_type": "execute_result"
    }
   ],
   "source": [
    "\n",
    "# Creating Dataframe with required column (Temp,Wetb,Dewpt,vappr)\n",
    "Irish_weather_data_cork_filt = Irish_weather_data_cork[['date','station','county','longitude','latitude','temp','wetb','dewpt','vappr']].copy()\n",
    "\n",
    "# Displaying first 5 rows from datframe Irish_weather_data_cork_new\n",
    "\n",
    "Irish_weather_data_cork_filt.head()\n"
   ]
  },
  {
   "cell_type": "code",
   "execution_count": null,
   "metadata": {},
   "outputs": [],
   "source": []
  },
  {
   "cell_type": "markdown",
   "metadata": {},
   "source": [
    "# 1. Exploratory Data Analysis "
   ]
  },
  {
   "cell_type": "code",
   "execution_count": 6,
   "metadata": {},
   "outputs": [
    {
     "data": {
      "text/plain": [
       "(735357, 21)"
      ]
     },
     "execution_count": 6,
     "metadata": {},
     "output_type": "execute_result"
    }
   ],
   "source": [
    "# ROW and colummn count\n",
    "Irish_weather_data_cork.shape\n"
   ]
  },
  {
   "cell_type": "code",
   "execution_count": 8,
   "metadata": {},
   "outputs": [
    {
     "name": "stdout",
     "output_type": "stream",
     "text": [
      "<class 'pandas.core.frame.DataFrame'>\n",
      "Int64Index: 735357 entries, 0 to 735356\n",
      "Data columns (total 9 columns):\n",
      "date         735357 non-null object\n",
      "station      735357 non-null object\n",
      "county       735357 non-null object\n",
      "longitude    735357 non-null float64\n",
      "latitude     735357 non-null float64\n",
      "temp         714410 non-null float64\n",
      "wetb         706510 non-null float64\n",
      "dewpt        706557 non-null float64\n",
      "vappr        683446 non-null float64\n",
      "dtypes: float64(6), object(3)\n",
      "memory usage: 56.1+ MB\n"
     ]
    }
   ],
   "source": [
    "Irish_weather_data_cork_filt['station'] = Irish_weather_data_cork_filt['station'].astype('str')\n",
    "Irish_weather_data_cork_filt['county'] = Irish_weather_data_cork_filt['county'].astype('str')\n",
    "Irish_weather_data_cork_filt['date'] = Irish_weather_data_cork_filt['date'].astype('str')\n",
    "\n",
    "# Irish_weather_data_cork_new['date'] = pd.to_datetime(Irish_weather_data_cork_new['date'])\n",
    "\n",
    "\n",
    "# Displaying Dataframe Information \n",
    "Irish_weather_data_cork_filt.info()\n"
   ]
  },
  {
   "cell_type": "markdown",
   "metadata": {},
   "source": [
    " # 1.1 Identify and Plotting  Null Values"
   ]
  },
  {
   "cell_type": "code",
   "execution_count": 9,
   "metadata": {},
   "outputs": [
    {
     "data": {
      "text/plain": [
       "True"
      ]
     },
     "execution_count": 9,
     "metadata": {},
     "output_type": "execute_result"
    }
   ],
   "source": [
    "# checking for null value in Dataframe \n",
    "Irish_weather_data_cork_filt.isnull().values.any()"
   ]
  },
  {
   "cell_type": "code",
   "execution_count": 10,
   "metadata": {
    "scrolled": true
   },
   "outputs": [
    {
     "data": {
      "text/plain": [
       "<matplotlib.axes._subplots.AxesSubplot at 0x23580119e80>"
      ]
     },
     "execution_count": 10,
     "metadata": {},
     "output_type": "execute_result"
    },
    {
     "data": {
      "image/png": "[encoded data removed]",
      "text/plain": [
       "<Figure size 432x288 with 1 Axes>"
      ]
     },
     "metadata": {
      "needs_background": "light"
     },
     "output_type": "display_data"
    }
   ],
   "source": [
    "# displaying null values on heatmap \n",
    "sns.heatmap(Irish_weather_data_cork_filt.isnull(), cbar=False)"
   ]
  },
  {
   "cell_type": "code",
   "execution_count": 12,
   "metadata": {},
   "outputs": [
    {
     "data": {
      "text/html": [
       "<div>\n",
       "<style scoped>\n",
       "    .dataframe tbody tr th:only-of-type {\n",
       "        vertical-align: middle;\n",
       "    }\n",
       "\n",
       "    .dataframe tbody tr th {\n",
       "        vertical-align: top;\n",
       "    }\n",
       "\n",
       "    .dataframe thead th {\n",
       "        text-align: right;\n",
       "    }\n",
       "</style>\n",
       "<table border=\"1\" class=\"dataframe\">\n",
       "  <thead>\n",
       "    <tr style=\"text-align: right;\">\n",
       "      <th></th>\n",
       "      <th>date</th>\n",
       "      <th>station</th>\n",
       "      <th>county</th>\n",
       "      <th>longitude</th>\n",
       "      <th>latitude</th>\n",
       "      <th>temp</th>\n",
       "      <th>wetb</th>\n",
       "      <th>dewpt</th>\n",
       "      <th>vappr</th>\n",
       "    </tr>\n",
       "  </thead>\n",
       "  <tbody>\n",
       "    <tr>\n",
       "      <td>158225</td>\n",
       "      <td>2007-01-19 17:00:00</td>\n",
       "      <td>Cork_Airport</td>\n",
       "      <td>Cork</td>\n",
       "      <td>-8.485</td>\n",
       "      <td>51.842</td>\n",
       "      <td>11.2</td>\n",
       "      <td>11.6</td>\n",
       "      <td>11.1</td>\n",
       "      <td>NaN</td>\n",
       "    </tr>\n",
       "    <tr>\n",
       "      <td>181068</td>\n",
       "      <td>2009-08-28 12:00:00</td>\n",
       "      <td>Cork_Airport</td>\n",
       "      <td>Cork</td>\n",
       "      <td>-8.485</td>\n",
       "      <td>51.842</td>\n",
       "      <td>15.0</td>\n",
       "      <td>NaN</td>\n",
       "      <td>8.8</td>\n",
       "      <td>11.3</td>\n",
       "    </tr>\n",
       "    <tr>\n",
       "      <td>181069</td>\n",
       "      <td>2009-08-28 13:00:00</td>\n",
       "      <td>Cork_Airport</td>\n",
       "      <td>Cork</td>\n",
       "      <td>-8.485</td>\n",
       "      <td>51.842</td>\n",
       "      <td>13.4</td>\n",
       "      <td>NaN</td>\n",
       "      <td>9.9</td>\n",
       "      <td>12.2</td>\n",
       "    </tr>\n",
       "    <tr>\n",
       "      <td>181070</td>\n",
       "      <td>2009-08-28 14:00:00</td>\n",
       "      <td>Cork_Airport</td>\n",
       "      <td>Cork</td>\n",
       "      <td>-8.485</td>\n",
       "      <td>51.842</td>\n",
       "      <td>14.8</td>\n",
       "      <td>NaN</td>\n",
       "      <td>7.8</td>\n",
       "      <td>10.6</td>\n",
       "    </tr>\n",
       "    <tr>\n",
       "      <td>181071</td>\n",
       "      <td>2009-08-28 15:00:00</td>\n",
       "      <td>Cork_Airport</td>\n",
       "      <td>Cork</td>\n",
       "      <td>-8.485</td>\n",
       "      <td>51.842</td>\n",
       "      <td>14.0</td>\n",
       "      <td>NaN</td>\n",
       "      <td>8.4</td>\n",
       "      <td>11.1</td>\n",
       "    </tr>\n",
       "  </tbody>\n",
       "</table>\n",
       "</div>"
      ],
      "text/plain": [
       "                       date       station county  longitude  latitude  temp  \\\n",
       "158225  2007-01-19 17:00:00  Cork_Airport   Cork     -8.485    51.842  11.2   \n",
       "181068  2009-08-28 12:00:00  Cork_Airport   Cork     -8.485    51.842  15.0   \n",
       "181069  2009-08-28 13:00:00  Cork_Airport   Cork     -8.485    51.842  13.4   \n",
       "181070  2009-08-28 14:00:00  Cork_Airport   Cork     -8.485    51.842  14.8   \n",
       "181071  2009-08-28 15:00:00  Cork_Airport   Cork     -8.485    51.842  14.0   \n",
       "\n",
       "        wetb  dewpt  vappr  \n",
       "158225  11.6   11.1    NaN  \n",
       "181068   NaN    8.8   11.3  \n",
       "181069   NaN    9.9   12.2  \n",
       "181070   NaN    7.8   10.6  \n",
       "181071   NaN    8.4   11.1  "
      ]
     },
     "execution_count": 12,
     "metadata": {},
     "output_type": "execute_result"
    }
   ],
   "source": [
    "# Creating Dataframe with null values to see year wise null value counting \n",
    "Irish_weather_data_cork_null = Irish_weather_data_cork_filt[Irish_weather_data_cork_filt.isna().any(axis=1)]\n",
    "\n",
    "# plotting 1st 5 rows from dataframe \n",
    "Irish_weather_data_cork_null.head()\n"
   ]
  },
  {
   "cell_type": "code",
   "execution_count": 14,
   "metadata": {},
   "outputs": [],
   "source": [
    "# splitting date column into three column Year,month, day and Hrs\n",
    "\n",
    "Irish_weather_data_cork_null[['year','month','day']] = Irish_weather_data_cork_null.date.str.split(\"-\",expand=True,)\n",
    "Irish_weather_data_cork_null[['day','Hrs']] = Irish_weather_data_cork_null.day.str.split(\" \",expand=True,)"
   ]
  },
  {
   "cell_type": "code",
   "execution_count": 15,
   "metadata": {},
   "outputs": [
    {
     "data": {
      "text/html": [
       "<div>\n",
       "<style scoped>\n",
       "    .dataframe tbody tr th:only-of-type {\n",
       "        vertical-align: middle;\n",
       "    }\n",
       "\n",
       "    .dataframe tbody tr th {\n",
       "        vertical-align: top;\n",
       "    }\n",
       "\n",
       "    .dataframe thead th {\n",
       "        text-align: right;\n",
       "    }\n",
       "</style>\n",
       "<table border=\"1\" class=\"dataframe\">\n",
       "  <thead>\n",
       "    <tr style=\"text-align: right;\">\n",
       "      <th></th>\n",
       "      <th>date</th>\n",
       "      <th>station</th>\n",
       "      <th>county</th>\n",
       "      <th>longitude</th>\n",
       "      <th>latitude</th>\n",
       "      <th>temp</th>\n",
       "      <th>wetb</th>\n",
       "      <th>dewpt</th>\n",
       "      <th>vappr</th>\n",
       "      <th>year</th>\n",
       "      <th>month</th>\n",
       "      <th>day</th>\n",
       "      <th>Hrs</th>\n",
       "    </tr>\n",
       "  </thead>\n",
       "  <tbody>\n",
       "    <tr>\n",
       "      <td>158225</td>\n",
       "      <td>2007-01-19 17:00:00</td>\n",
       "      <td>Cork_Airport</td>\n",
       "      <td>Cork</td>\n",
       "      <td>-8.485</td>\n",
       "      <td>51.842</td>\n",
       "      <td>11.2</td>\n",
       "      <td>11.6</td>\n",
       "      <td>11.1</td>\n",
       "      <td>NaN</td>\n",
       "      <td>2007</td>\n",
       "      <td>01</td>\n",
       "      <td>19</td>\n",
       "      <td>17:00:00</td>\n",
       "    </tr>\n",
       "    <tr>\n",
       "      <td>181068</td>\n",
       "      <td>2009-08-28 12:00:00</td>\n",
       "      <td>Cork_Airport</td>\n",
       "      <td>Cork</td>\n",
       "      <td>-8.485</td>\n",
       "      <td>51.842</td>\n",
       "      <td>15.0</td>\n",
       "      <td>NaN</td>\n",
       "      <td>8.8</td>\n",
       "      <td>11.3</td>\n",
       "      <td>2009</td>\n",
       "      <td>08</td>\n",
       "      <td>28</td>\n",
       "      <td>12:00:00</td>\n",
       "    </tr>\n",
       "    <tr>\n",
       "      <td>181069</td>\n",
       "      <td>2009-08-28 13:00:00</td>\n",
       "      <td>Cork_Airport</td>\n",
       "      <td>Cork</td>\n",
       "      <td>-8.485</td>\n",
       "      <td>51.842</td>\n",
       "      <td>13.4</td>\n",
       "      <td>NaN</td>\n",
       "      <td>9.9</td>\n",
       "      <td>12.2</td>\n",
       "      <td>2009</td>\n",
       "      <td>08</td>\n",
       "      <td>28</td>\n",
       "      <td>13:00:00</td>\n",
       "    </tr>\n",
       "    <tr>\n",
       "      <td>181070</td>\n",
       "      <td>2009-08-28 14:00:00</td>\n",
       "      <td>Cork_Airport</td>\n",
       "      <td>Cork</td>\n",
       "      <td>-8.485</td>\n",
       "      <td>51.842</td>\n",
       "      <td>14.8</td>\n",
       "      <td>NaN</td>\n",
       "      <td>7.8</td>\n",
       "      <td>10.6</td>\n",
       "      <td>2009</td>\n",
       "      <td>08</td>\n",
       "      <td>28</td>\n",
       "      <td>14:00:00</td>\n",
       "    </tr>\n",
       "    <tr>\n",
       "      <td>181071</td>\n",
       "      <td>2009-08-28 15:00:00</td>\n",
       "      <td>Cork_Airport</td>\n",
       "      <td>Cork</td>\n",
       "      <td>-8.485</td>\n",
       "      <td>51.842</td>\n",
       "      <td>14.0</td>\n",
       "      <td>NaN</td>\n",
       "      <td>8.4</td>\n",
       "      <td>11.1</td>\n",
       "      <td>2009</td>\n",
       "      <td>08</td>\n",
       "      <td>28</td>\n",
       "      <td>15:00:00</td>\n",
       "    </tr>\n",
       "  </tbody>\n",
       "</table>\n",
       "</div>"
      ],
      "text/plain": [
       "                       date       station county  longitude  latitude  temp  \\\n",
       "158225  2007-01-19 17:00:00  Cork_Airport   Cork     -8.485    51.842  11.2   \n",
       "181068  2009-08-28 12:00:00  Cork_Airport   Cork     -8.485    51.842  15.0   \n",
       "181069  2009-08-28 13:00:00  Cork_Airport   Cork     -8.485    51.842  13.4   \n",
       "181070  2009-08-28 14:00:00  Cork_Airport   Cork     -8.485    51.842  14.8   \n",
       "181071  2009-08-28 15:00:00  Cork_Airport   Cork     -8.485    51.842  14.0   \n",
       "\n",
       "        wetb  dewpt  vappr  year month day       Hrs  \n",
       "158225  11.6   11.1    NaN  2007    01  19  17:00:00  \n",
       "181068   NaN    8.8   11.3  2009    08  28  12:00:00  \n",
       "181069   NaN    9.9   12.2  2009    08  28  13:00:00  \n",
       "181070   NaN    7.8   10.6  2009    08  28  14:00:00  \n",
       "181071   NaN    8.4   11.1  2009    08  28  15:00:00  "
      ]
     },
     "execution_count": 15,
     "metadata": {},
     "output_type": "execute_result"
    }
   ],
   "source": [
    "Irish_weather_data_cork_null.head()"
   ]
  },
  {
   "cell_type": "code",
   "execution_count": 16,
   "metadata": {},
   "outputs": [
    {
     "data": {
      "text/plain": [
       "1994    8736\n",
       "2000    8570\n",
       "1993    8015\n",
       "1995    7727\n",
       "1999    7606\n",
       "1998    5552\n",
       "2001    1485\n",
       "1996    1467\n",
       "2003    1139\n",
       "2004     708\n",
       "2005     188\n",
       "2006     172\n",
       "2008     163\n",
       "2007      97\n",
       "1997      89\n",
       "2002      62\n",
       "2017      57\n",
       "2010      29\n",
       "2011      28\n",
       "2009      22\n",
       "2012      21\n",
       "2014      11\n",
       "2015      10\n",
       "2013       4\n",
       "Name: year, dtype: int64"
      ]
     },
     "execution_count": 16,
     "metadata": {},
     "output_type": "execute_result"
    }
   ],
   "source": [
    "# Displaying null values for each year \n",
    "Irish_weather_data_cork_null.year.value_counts()"
   ]
  },
  {
   "cell_type": "markdown",
   "metadata": {},
   "source": [
    "## 1.2 \n",
    "\n",
    "## Creating Dataframe with Null and without Null and  counting rows \n",
    "## Identifying duplicated value in clean(Without null) dataframe "
   ]
  },
  {
   "cell_type": "code",
   "execution_count": 17,
   "metadata": {},
   "outputs": [
    {
     "name": "stdout",
     "output_type": "stream",
     "text": [
      "Old data frame length: 735357 \n",
      "New data frame length: 683399 \n",
      "Number of rows with at least 1 NA value:  51958\n"
     ]
    }
   ],
   "source": [
    "\n",
    "# Calculating clean dataframe without null values \n",
    "Irish_weather_data_cork_withoutnull = Irish_weather_data_cork_filt.dropna(axis = 0, how ='any')\n",
    "\n",
    "# Displaying dataframe count with and without null values \n",
    "\n",
    "print(\"Old data frame length:\", len(Irish_weather_data_cork_filt), \"\\nNew data frame length:\",  \n",
    "       len(Irish_weather_data_cork_withoutnull), \"\\nNumber of rows with at least 1 NA value: \", \n",
    "       (len(Irish_weather_data_cork_filt)-len(Irish_weather_data_cork_withoutnull))) \n"
   ]
  },
  {
   "cell_type": "code",
   "execution_count": 18,
   "metadata": {
    "scrolled": true
   },
   "outputs": [
    {
     "data": {
      "text/plain": [
       "0         False\n",
       "1         False\n",
       "2         False\n",
       "3         False\n",
       "4         False\n",
       "          ...  \n",
       "735352    False\n",
       "735353    False\n",
       "735354    False\n",
       "735355    False\n",
       "735356    False\n",
       "Length: 683399, dtype: bool"
      ]
     },
     "execution_count": 18,
     "metadata": {},
     "output_type": "execute_result"
    }
   ],
   "source": [
    "\n",
    "# Finding Duuplicate values from Dataframe\n",
    "Irish_weather_data_cork_withoutnull.duplicated()"
   ]
  },
  {
   "cell_type": "code",
   "execution_count": 19,
   "metadata": {
    "scrolled": true
   },
   "outputs": [
    {
     "data": {
      "text/html": [
       "<div>\n",
       "<style scoped>\n",
       "    .dataframe tbody tr th:only-of-type {\n",
       "        vertical-align: middle;\n",
       "    }\n",
       "\n",
       "    .dataframe tbody tr th {\n",
       "        vertical-align: top;\n",
       "    }\n",
       "\n",
       "    .dataframe thead th {\n",
       "        text-align: right;\n",
       "    }\n",
       "</style>\n",
       "<table border=\"1\" class=\"dataframe\">\n",
       "  <thead>\n",
       "    <tr style=\"text-align: right;\">\n",
       "      <th></th>\n",
       "      <th>date</th>\n",
       "      <th>station</th>\n",
       "      <th>county</th>\n",
       "      <th>longitude</th>\n",
       "      <th>latitude</th>\n",
       "      <th>temp</th>\n",
       "      <th>wetb</th>\n",
       "      <th>dewpt</th>\n",
       "      <th>vappr</th>\n",
       "    </tr>\n",
       "  </thead>\n",
       "  <tbody>\n",
       "  </tbody>\n",
       "</table>\n",
       "</div>"
      ],
      "text/plain": [
       "Empty DataFrame\n",
       "Columns: [date, station, county, longitude, latitude, temp, wetb, dewpt, vappr]\n",
       "Index: []"
      ]
     },
     "execution_count": 19,
     "metadata": {},
     "output_type": "execute_result"
    }
   ],
   "source": [
    "# Displaying duplicate rows from dataframe \n",
    "Irish_weather_data_cork_withoutnull[Irish_weather_data_cork_withoutnull.duplicated(keep=False)]"
   ]
  },
  {
   "cell_type": "markdown",
   "metadata": {},
   "source": [
    "## 1.3 Correlation Plot "
   ]
  },
  {
   "cell_type": "code",
   "execution_count": 20,
   "metadata": {},
   "outputs": [
    {
     "data": {
      "text/plain": [
       "<matplotlib.axes._subplots.AxesSubplot at 0x2358b45cf28>"
      ]
     },
     "execution_count": 20,
     "metadata": {},
     "output_type": "execute_result"
    },
    {
     "data": {
      "image/png": "[encoded data removed]",
      "text/plain": [
       "<Figure size 1000x1000 with 2 Axes>"
      ]
     },
     "metadata": {
      "needs_background": "light"
     },
     "output_type": "display_data"
    }
   ],
   "source": [
    "\n",
    "# Corelation plot of dataframe \n",
    "\n",
    "plt.figure(figsize= (10,10), dpi=100)\n",
    "sns.heatmap(Irish_weather_data_cork_withoutnull.corr())"
   ]
  },
  {
   "cell_type": "markdown",
   "metadata": {},
   "source": [
    "## 1.4 Outlier Detection and Removal using IQR method"
   ]
  },
  {
   "cell_type": "code",
   "execution_count": 21,
   "metadata": {
    "scrolled": false
   },
   "outputs": [
    {
     "data": {
      "text/plain": [
       "<matplotlib.axes._subplots.AxesSubplot at 0x2358c3d9d68>"
      ]
     },
     "execution_count": 21,
     "metadata": {},
     "output_type": "execute_result"
    },
    {
     "data": {
      "image/png": "[encoded data removed]",
      "text/plain": [
       "<Figure size 432x288 with 1 Axes>"
      ]
     },
     "metadata": {
      "needs_background": "light"
     },
     "output_type": "display_data"
    }
   ],
   "source": [
    "sns.boxplot(x=Irish_weather_data_cork_withoutnull['temp'])"
   ]
  },
  {
   "cell_type": "code",
   "execution_count": 22,
   "metadata": {},
   "outputs": [
    {
     "data": {
      "text/plain": [
       "<matplotlib.axes._subplots.AxesSubplot at 0x2358af66b38>"
      ]
     },
     "execution_count": 22,
     "metadata": {},
     "output_type": "execute_result"
    },
    {
     "data": {
      "image/png": "[encoded data removed]",
      "text/plain": [
       "<Figure size 432x288 with 1 Axes>"
      ]
     },
     "metadata": {
      "needs_background": "light"
     },
     "output_type": "display_data"
    }
   ],
   "source": [
    "Q1 = Irish_weather_data_cork_withoutnull['temp'].quantile(0.25)\n",
    "Q3 = Irish_weather_data_cork_withoutnull['temp'].quantile(0.75)\n",
    "IQR = Q3 - Q1\n",
    "\n",
    "filter = (Irish_weather_data_cork_withoutnull['temp'] >= Q1 - 1.5 * IQR) & (Irish_weather_data_cork_withoutnull['temp'] <= Q3 + 1.5 *IQR)\n",
    "\n",
    "\n",
    "Irish_weather_data_cork_withoutnull= Irish_weather_data_cork_withoutnull.loc[filter] \n",
    "Irish_weather_data_cork_withoutnull.head()\n",
    "sns.boxplot(x=Irish_weather_data_cork_withoutnull['temp'])"
   ]
  },
  {
   "cell_type": "code",
   "execution_count": 23,
   "metadata": {},
   "outputs": [
    {
     "data": {
      "text/plain": [
       "<matplotlib.axes._subplots.AxesSubplot at 0x2358b38e3c8>"
      ]
     },
     "execution_count": 23,
     "metadata": {},
     "output_type": "execute_result"
    },
    {
     "data": {
      "image/png": "[encoded data removed]",
      "text/plain": [
       "<Figure size 432x288 with 1 Axes>"
      ]
     },
     "metadata": {
      "needs_background": "light"
     },
     "output_type": "display_data"
    }
   ],
   "source": [
    "sns.boxplot(x=Irish_weather_data_cork_withoutnull['vappr'])"
   ]
  },
  {
   "cell_type": "code",
   "execution_count": 24,
   "metadata": {},
   "outputs": [
    {
     "data": {
      "text/plain": [
       "<matplotlib.axes._subplots.AxesSubplot at 0x2358c3a5550>"
      ]
     },
     "execution_count": 24,
     "metadata": {},
     "output_type": "execute_result"
    },
    {
     "data": {
      "image/png": "[encoded data removed]",
      "text/plain": [
       "<Figure size 432x288 with 1 Axes>"
      ]
     },
     "metadata": {
      "needs_background": "light"
     },
     "output_type": "display_data"
    }
   ],
   "source": [
    "Q1 = Irish_weather_data_cork_withoutnull['vappr'].quantile(0.25)\n",
    "Q3 = Irish_weather_data_cork_withoutnull['vappr'].quantile(0.75)\n",
    "IQR = Q3 - Q1\n",
    "\n",
    "filter = (Irish_weather_data_cork_withoutnull['vappr'] >= Q1 - 1.5 * IQR) & (Irish_weather_data_cork_withoutnull['vappr'] <= Q3 + 1.5 *IQR)\n",
    "\n",
    "\n",
    "Irish_weather_data_cork_withoutnull= Irish_weather_data_cork_withoutnull.loc[filter] \n",
    "Irish_weather_data_cork_withoutnull.head()\n",
    "sns.boxplot(x=Irish_weather_data_cork_withoutnull['vappr'])"
   ]
  },
  {
   "cell_type": "code",
   "execution_count": 25,
   "metadata": {},
   "outputs": [
    {
     "data": {
      "text/plain": [
       "<matplotlib.axes._subplots.AxesSubplot at 0x2358b3eb4e0>"
      ]
     },
     "execution_count": 25,
     "metadata": {},
     "output_type": "execute_result"
    },
    {
     "data": {
      "image/png": "[encoded data removed]",
      "text/plain": [
       "<Figure size 432x288 with 1 Axes>"
      ]
     },
     "metadata": {
      "needs_background": "light"
     },
     "output_type": "display_data"
    }
   ],
   "source": [
    "sns.boxplot(x=Irish_weather_data_cork_withoutnull['wetb'])"
   ]
  },
  {
   "cell_type": "code",
   "execution_count": 26,
   "metadata": {},
   "outputs": [
    {
     "data": {
      "text/plain": [
       "<matplotlib.axes._subplots.AxesSubplot at 0x2358c5088d0>"
      ]
     },
     "execution_count": 26,
     "metadata": {},
     "output_type": "execute_result"
    },
    {
     "data": {
      "image/png": "[encoded data removed]",
      "text/plain": [
       "<Figure size 432x288 with 1 Axes>"
      ]
     },
     "metadata": {
      "needs_background": "light"
     },
     "output_type": "display_data"
    }
   ],
   "source": [
    "Q1 = Irish_weather_data_cork_withoutnull['wetb'].quantile(0.25)\n",
    "Q3 = Irish_weather_data_cork_withoutnull['wetb'].quantile(0.75)\n",
    "IQR = Q3 - Q1\n",
    "\n",
    "filter = (Irish_weather_data_cork_withoutnull['wetb'] >= Q1 - 1.5 * IQR) & (Irish_weather_data_cork_withoutnull['wetb'] <= Q3 + 1.5 *IQR)\n",
    "\n",
    "\n",
    "Irish_weather_data_cork_withoutnull= Irish_weather_data_cork_withoutnull.loc[filter] \n",
    "sns.boxplot(x=Irish_weather_data_cork_withoutnull['wetb'])"
   ]
  },
  {
   "cell_type": "code",
   "execution_count": 27,
   "metadata": {},
   "outputs": [
    {
     "data": {
      "text/plain": [
       "<matplotlib.axes._subplots.AxesSubplot at 0x2358bbc2780>"
      ]
     },
     "execution_count": 27,
     "metadata": {},
     "output_type": "execute_result"
    },
    {
     "data": {
      "image/png": "[encoded data removed]",
      "text/plain": [
       "<Figure size 432x288 with 1 Axes>"
      ]
     },
     "metadata": {
      "needs_background": "light"
     },
     "output_type": "display_data"
    }
   ],
   "source": [
    "sns.boxplot(x=Irish_weather_data_cork_withoutnull['dewpt'])"
   ]
  },
  {
   "cell_type": "code",
   "execution_count": 28,
   "metadata": {},
   "outputs": [],
   "source": [
    "Q1 = Irish_weather_data_cork_withoutnull['dewpt'].quantile(0.25)\n",
    "Q3 = Irish_weather_data_cork_withoutnull['dewpt'].quantile(0.75)\n",
    "IQR = Q3 - Q1\n",
    "\n",
    "filter = (Irish_weather_data_cork_withoutnull['dewpt'] >= Q1 - 1.5 * IQR) & (Irish_weather_data_cork_withoutnull['dewpt'] <= Q3 + 1.5 *IQR)\n",
    "\n",
    "\n",
    "Irish_weather_data_cork_withoutnull= Irish_weather_data_cork_withoutnull.loc[filter]"
   ]
  },
  {
   "cell_type": "code",
   "execution_count": 29,
   "metadata": {},
   "outputs": [
    {
     "data": {
      "text/plain": [
       "<matplotlib.axes._subplots.AxesSubplot at 0x2358b6bb5f8>"
      ]
     },
     "execution_count": 29,
     "metadata": {},
     "output_type": "execute_result"
    },
    {
     "data": {
      "image/png": "[encoded data removed]",
      "text/plain": [
       "<Figure size 432x288 with 1 Axes>"
      ]
     },
     "metadata": {
      "needs_background": "light"
     },
     "output_type": "display_data"
    }
   ],
   "source": [
    "sns.boxplot(x=Irish_weather_data_cork_withoutnull['dewpt'])"
   ]
  },
  {
   "cell_type": "code",
   "execution_count": 30,
   "metadata": {},
   "outputs": [
    {
     "data": {
      "text/html": [
       "<div>\n",
       "<style scoped>\n",
       "    .dataframe tbody tr th:only-of-type {\n",
       "        vertical-align: middle;\n",
       "    }\n",
       "\n",
       "    .dataframe tbody tr th {\n",
       "        vertical-align: top;\n",
       "    }\n",
       "\n",
       "    .dataframe thead th {\n",
       "        text-align: right;\n",
       "    }\n",
       "</style>\n",
       "<table border=\"1\" class=\"dataframe\">\n",
       "  <thead>\n",
       "    <tr style=\"text-align: right;\">\n",
       "      <th></th>\n",
       "      <th>date</th>\n",
       "      <th>station</th>\n",
       "      <th>county</th>\n",
       "      <th>longitude</th>\n",
       "      <th>latitude</th>\n",
       "      <th>temp</th>\n",
       "      <th>wetb</th>\n",
       "      <th>dewpt</th>\n",
       "      <th>vappr</th>\n",
       "    </tr>\n",
       "  </thead>\n",
       "  <tbody>\n",
       "    <tr>\n",
       "      <td>0</td>\n",
       "      <td>1989-01-01 00:00:00</td>\n",
       "      <td>Cork_Airport</td>\n",
       "      <td>Cork</td>\n",
       "      <td>-8.485</td>\n",
       "      <td>51.842</td>\n",
       "      <td>9.1</td>\n",
       "      <td>8.7</td>\n",
       "      <td>8.3</td>\n",
       "      <td>10.9</td>\n",
       "    </tr>\n",
       "    <tr>\n",
       "      <td>1</td>\n",
       "      <td>1989-01-01 01:00:00</td>\n",
       "      <td>Cork_Airport</td>\n",
       "      <td>Cork</td>\n",
       "      <td>-8.485</td>\n",
       "      <td>51.842</td>\n",
       "      <td>9.0</td>\n",
       "      <td>8.7</td>\n",
       "      <td>8.4</td>\n",
       "      <td>11.0</td>\n",
       "    </tr>\n",
       "    <tr>\n",
       "      <td>2</td>\n",
       "      <td>1989-01-01 02:00:00</td>\n",
       "      <td>Cork_Airport</td>\n",
       "      <td>Cork</td>\n",
       "      <td>-8.485</td>\n",
       "      <td>51.842</td>\n",
       "      <td>8.9</td>\n",
       "      <td>8.5</td>\n",
       "      <td>8.1</td>\n",
       "      <td>10.8</td>\n",
       "    </tr>\n",
       "    <tr>\n",
       "      <td>3</td>\n",
       "      <td>1989-01-01 03:00:00</td>\n",
       "      <td>Cork_Airport</td>\n",
       "      <td>Cork</td>\n",
       "      <td>-8.485</td>\n",
       "      <td>51.842</td>\n",
       "      <td>9.0</td>\n",
       "      <td>8.7</td>\n",
       "      <td>8.4</td>\n",
       "      <td>11.0</td>\n",
       "    </tr>\n",
       "    <tr>\n",
       "      <td>4</td>\n",
       "      <td>1989-01-01 04:00:00</td>\n",
       "      <td>Cork_Airport</td>\n",
       "      <td>Cork</td>\n",
       "      <td>-8.485</td>\n",
       "      <td>51.842</td>\n",
       "      <td>9.0</td>\n",
       "      <td>8.6</td>\n",
       "      <td>8.2</td>\n",
       "      <td>10.8</td>\n",
       "    </tr>\n",
       "  </tbody>\n",
       "</table>\n",
       "</div>"
      ],
      "text/plain": [
       "                  date       station county  longitude  latitude  temp  wetb  \\\n",
       "0  1989-01-01 00:00:00  Cork_Airport   Cork     -8.485    51.842   9.1   8.7   \n",
       "1  1989-01-01 01:00:00  Cork_Airport   Cork     -8.485    51.842   9.0   8.7   \n",
       "2  1989-01-01 02:00:00  Cork_Airport   Cork     -8.485    51.842   8.9   8.5   \n",
       "3  1989-01-01 03:00:00  Cork_Airport   Cork     -8.485    51.842   9.0   8.7   \n",
       "4  1989-01-01 04:00:00  Cork_Airport   Cork     -8.485    51.842   9.0   8.6   \n",
       "\n",
       "   dewpt  vappr  \n",
       "0    8.3   10.9  \n",
       "1    8.4   11.0  \n",
       "2    8.1   10.8  \n",
       "3    8.4   11.0  \n",
       "4    8.2   10.8  "
      ]
     },
     "execution_count": 30,
     "metadata": {},
     "output_type": "execute_result"
    }
   ],
   "source": [
    "Irish_weather_data_cork_withoutnull.head()"
   ]
  }
 ],
 "metadata": {
  "kernelspec": {
   "display_name": "Python 3",
   "language": "python",
   "name": "python3"
  },
  "language_info": {
   "codemirror_mode": {
    "name": "ipython",
    "version": 3
   },
   "file_extension": ".py",
   "mimetype": "text/x-python",
   "name": "python",
   "nbconvert_exporter": "python",
   "pygments_lexer": "ipython3",
   "version": "3.7.3"
  }
 },
 "nbformat": 4,
 "nbformat_minor": 2
}
